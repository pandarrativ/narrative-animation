{
 "cells": [
  {
   "cell_type": "code",
   "execution_count": 3,
   "id": "638d2f93-02d4-471b-82e7-42e33c29fd4a",
   "metadata": {},
   "outputs": [
    {
     "name": "stdout",
     "output_type": "stream",
     "text": [
      "Collecting ollama\n",
      "  Obtaining dependency information for ollama from https://files.pythonhosted.org/packages/86/55/88919c677903506e32b80fb8d1469a7033d644b92c1396aa11c79e0bb7a0/ollama-0.2.0-py3-none-any.whl.metadata\n",
      "  Downloading ollama-0.2.0-py3-none-any.whl.metadata (4.1 kB)\n",
      "Collecting httpx<0.28.0,>=0.27.0 (from ollama)\n",
      "  Obtaining dependency information for httpx<0.28.0,>=0.27.0 from https://files.pythonhosted.org/packages/41/7b/ddacf6dcebb42466abd03f368782142baa82e08fc0c1f8eaa05b4bae87d5/httpx-0.27.0-py3-none-any.whl.metadata\n",
      "  Downloading httpx-0.27.0-py3-none-any.whl.metadata (7.2 kB)\n",
      "Collecting anyio (from httpx<0.28.0,>=0.27.0->ollama)\n",
      "  Obtaining dependency information for anyio from https://files.pythonhosted.org/packages/14/fd/2f20c40b45e4fb4324834aea24bd4afdf1143390242c0b33774da0e2e34f/anyio-4.3.0-py3-none-any.whl.metadata\n",
      "  Downloading anyio-4.3.0-py3-none-any.whl.metadata (4.6 kB)\n",
      "Requirement already satisfied: certifi in /Library/Frameworks/Python.framework/Versions/3.11/lib/python3.11/site-packages (from httpx<0.28.0,>=0.27.0->ollama) (2024.2.2)\n",
      "Collecting httpcore==1.* (from httpx<0.28.0,>=0.27.0->ollama)\n",
      "  Obtaining dependency information for httpcore==1.* from https://files.pythonhosted.org/packages/78/d4/e5d7e4f2174f8a4d63c8897d79eb8fe2503f7ecc03282fee1fa2719c2704/httpcore-1.0.5-py3-none-any.whl.metadata\n",
      "  Downloading httpcore-1.0.5-py3-none-any.whl.metadata (20 kB)\n",
      "Requirement already satisfied: idna in /Library/Frameworks/Python.framework/Versions/3.11/lib/python3.11/site-packages (from httpx<0.28.0,>=0.27.0->ollama) (3.6)\n",
      "Requirement already satisfied: sniffio in /Library/Frameworks/Python.framework/Versions/3.11/lib/python3.11/site-packages (from httpx<0.28.0,>=0.27.0->ollama) (1.3.1)\n",
      "Requirement already satisfied: h11<0.15,>=0.13 in /Library/Frameworks/Python.framework/Versions/3.11/lib/python3.11/site-packages (from httpcore==1.*->httpx<0.28.0,>=0.27.0->ollama) (0.14.0)\n",
      "Using cached ollama-0.2.0-py3-none-any.whl (9.5 kB)\n",
      "Using cached httpx-0.27.0-py3-none-any.whl (75 kB)\n",
      "Using cached httpcore-1.0.5-py3-none-any.whl (77 kB)\n",
      "Using cached anyio-4.3.0-py3-none-any.whl (85 kB)\n",
      "Installing collected packages: httpcore, anyio, httpx, ollama\n",
      "Successfully installed anyio-4.3.0 httpcore-1.0.5 httpx-0.27.0 ollama-0.2.0\n",
      "\n",
      "\u001b[1m[\u001b[0m\u001b[34;49mnotice\u001b[0m\u001b[1;39;49m]\u001b[0m\u001b[39;49m A new release of pip is available: \u001b[0m\u001b[31;49m23.2.1\u001b[0m\u001b[39;49m -> \u001b[0m\u001b[32;49m24.0\u001b[0m\n",
      "\u001b[1m[\u001b[0m\u001b[34;49mnotice\u001b[0m\u001b[1;39;49m]\u001b[0m\u001b[39;49m To update, run: \u001b[0m\u001b[32;49mpip3 install --upgrade pip\u001b[0m\n",
      "Note: you may need to restart the kernel to use updated packages.\n"
     ]
    }
   ],
   "source": [
    "%pip install ollama"
   ]
  },
  {
   "cell_type": "code",
   "execution_count": 1,
   "id": "5dac8ccf-6120-4197-a700-dc146c28866f",
   "metadata": {},
   "outputs": [],
   "source": [
    "import ollama"
   ]
  },
  {
   "cell_type": "code",
   "execution_count": 2,
   "id": "98951751-f145-40c0-8836-80c6047b9a4d",
   "metadata": {},
   "outputs": [],
   "source": [
    "#synchronous\n",
    "def get_response(prompt):\n",
    "    response = ollama.chat(model='llama3', messages=[\n",
    "      {\n",
    "        'role': 'user',\n",
    "        'content': prompt,\n",
    "      },\n",
    "    ])\n",
    "    return response['message']['content']"
   ]
  },
  {
   "cell_type": "code",
   "execution_count": 7,
   "id": "77ee8ce6",
   "metadata": {},
   "outputs": [
    {
     "name": "stdout",
     "output_type": "stream",
     "text": [
      "Here is the list of main plots in JSON format:\n",
      "\n",
      "[Plot-1: 1, Plot-name: The Discovery, Plot-content: Benny meets Ollie and learns about trees dancing with the breeze]\n",
      "\n",
      "[Plot-2: 2, Plot-name: The Dance Begins, Plot-content: Benny, Ollie, and Sammy start dancing together, creating a magical forest melody]\n",
      "\n",
      "[Plot-3: 3, Plot-name: The Joy Spreads, Plot-content: The trio continues to dance and spread joy throughout the forest]\n",
      "\n",
      "Note that there is only one main plot in this story, which is about the development of Benny's understanding and participation in the forest dance. The other events and actions are subsidiary to this main plot.\n"
     ]
    }
   ],
   "source": [
    "# tests\n",
    "STORY_TO_PLOT = f'Given the following story, identify and list the main plots. Please provide a list of the main plots. For each plot, the format should be in json form: [Plot-number: number, Plot-name: name, Plot-content: content] There should be a new line between each plot: '\n",
    "title = \"title: Forest Friends: The Dance of Joy\\n\"\n",
    "story = \"Once upon a time in a lush green forest, there lived a curious bunny named Benny. One sunny morning, Benny met a wise old owl named Ollie. \\\"Why do trees sway in the wind?\\\" Benny asked. Ollie smiled, \\\"To dance with the breeze, little one.\\\" Benny giggled, joining the dance. Suddenly, a mischievous squirrel named Sammy joined in. Together, they swayed and laughed, creating a magical forest melody. From that day on, Benny, Ollie, and Sammy danced in the forest, spreading joy wherever they went. And they lived happily ever after, in the rhythm of nature's dance.\"\n",
    "print(get_response(STORY_TO_PLOT + title + story))"
   ]
  },
  {
   "cell_type": "code",
   "execution_count": null,
   "id": "f6d03588-1fb3-497e-a122-69871789c29a",
   "metadata": {},
   "outputs": [],
   "source": [
    "# asynchronous\n",
    "stream = ollama.chat(\n",
    "    model='llama3',\n",
    "    messages=[{'role': 'user', 'content': 'Why is the sky blue?'}],\n",
    "    stream=True,\n",
    ")\n",
    "\n",
    "for chunk in stream:\n",
    "  print(chunk['message']['content'], end='', flush=True)"
   ]
  }
 ],
 "metadata": {
  "kernelspec": {
   "display_name": "Python 3 (ipykernel)",
   "language": "python",
   "name": "python3"
  },
  "language_info": {
   "codemirror_mode": {
    "name": "ipython",
    "version": 3
   },
   "file_extension": ".py",
   "mimetype": "text/x-python",
   "name": "python",
   "nbconvert_exporter": "python",
   "pygments_lexer": "ipython3",
   "version": "3.11.5"
  }
 },
 "nbformat": 4,
 "nbformat_minor": 5
}
